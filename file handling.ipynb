{
 "cells": [
  {
   "cell_type": "code",
   "execution_count": 27,
   "id": "167a826d-c8a5-4c1b-8f27-b1b0fe5a0abc",
   "metadata": {},
   "outputs": [],
   "source": [
    "#create afile\n",
    "with open(\"new_file.txt\",\"w\")as f:\n",
    "    f.writelines([\"gokul is good in speaking\\n\",\"sethu is good in python\\n\",])\n"
   ]
  },
  {
   "cell_type": "code",
   "execution_count": 28,
   "id": "102a415a-ffda-4d1f-803d-6b751f0d5208",
   "metadata": {},
   "outputs": [
    {
     "ename": "SyntaxError",
     "evalue": "invalid syntax (253225405.py, line 1)",
     "output_type": "error",
     "traceback": [
      "  \u001b[36mCell\u001b[39m\u001b[36m \u001b[39m\u001b[32mIn[28]\u001b[39m\u001b[32m, line 1\u001b[39m\n\u001b[31m    \u001b[39m\u001b[31mdef word_line_ratio(\"new_file.txt\"):\u001b[39m\n                        ^\n\u001b[31mSyntaxError\u001b[39m\u001b[31m:\u001b[39m invalid syntax\n"
     ]
    }
   ],
   "source": [
    "def word_line_ratio(\"new_file.txt\"):\n",
    "    try:\n",
    "        file = open(new_file.txt,\"r\") \n",
    "        lines = file.readlines()\n",
    "\n",
    "        total_lines = len(lines)\n",
    "        total_words = sum(len(line.split()) for line in lines)\n",
    "\n",
    "        ratio = total_words / total_lines \n",
    "        print(f\"Total Words: {total_words}, Total Lines: {total_lines}\")\n",
    "        print(f\"Average words per line: {ratio}\")\n",
    "\n",
    "    except FileNotFoundError:\n",
    "        print(\"Error: The file was not found.\")\n",
    "    except ZeroDivisionError:\n",
    "        print(\"Error: The file is empty (no lines to divide).\")\n",
    "    finally:\n",
    "        try:\n",
    "            file.close()  \n",
    "        except:\n",
    "            pass \n",
    "\n",
    "word_line_ratio(\"new_file.txt\")\n"
   ]
  },
  {
   "cell_type": "code",
   "execution_count": null,
   "id": "1d0ee07b-f529-4c0e-bd58-4d4a1d8337e0",
   "metadata": {},
   "outputs": [],
   "source": []
  },
  {
   "cell_type": "code",
   "execution_count": 29,
   "id": "521e7e76-1fdc-475f-803e-0b29f8890216",
   "metadata": {},
   "outputs": [
    {
     "name": "stdout",
     "output_type": "stream",
     "text": [
      "Total Words: 10, Total Lines: 2\n",
      "Average words per line: 5.0\n"
     ]
    }
   ],
   "source": [
    "def word_line(f):\n",
    "    try:\n",
    "        file = open(f, \"r\") \n",
    "        lines = file.readlines()\n",
    "\n",
    "        total_lines = len(lines)\n",
    "        total_words = sum(len(line.split()) for line in lines)\n",
    "\n",
    "        ratio = total_words / total_lines\n",
    "        print(f\"Total Words: {total_words}, Total Lines: {total_lines}\")\n",
    "        print(f\"Average : {ratio}\")\n",
    "\n",
    "    except FileNotFoundError:\n",
    "        print(\"The file was not found.\")\n",
    "    except ZeroDivisionError:\n",
    "        print(\"The file is empty\")\n",
    "    finally:\n",
    "        try:\n",
    "            file.close()\n",
    "        except:\n",
    "            pass\n",
    "word_line(\"new_file.txt\")\n"
   ]
  },
  {
   "cell_type": "code",
   "execution_count": null,
   "id": "3c2e81b3-d4c9-43c4-9d19-315cf7a1686e",
   "metadata": {},
   "outputs": [],
   "source": []
  }
 ],
 "metadata": {
  "kernelspec": {
   "display_name": "Python 3 (ipykernel)",
   "language": "python",
   "name": "python3"
  },
  "language_info": {
   "codemirror_mode": {
    "name": "ipython",
    "version": 3
   },
   "file_extension": ".py",
   "mimetype": "text/x-python",
   "name": "python",
   "nbconvert_exporter": "python",
   "pygments_lexer": "ipython3",
   "version": "3.13.8"
  }
 },
 "nbformat": 4,
 "nbformat_minor": 5
}
