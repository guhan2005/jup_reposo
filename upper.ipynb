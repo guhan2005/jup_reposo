{
 "cells": [
  {
   "cell_type": "code",
   "execution_count": null,
   "id": "0823ce61-fc2e-440c-a773-1efaf68a9241",
   "metadata": {},
   "outputs": [],
   "source": [
    "# Decorator to convert text to uppercase\n",
    "def upper(func):\n",
    "    def otf():\n",
    "        result = func()\n",
    "        return result.upper()\n",
    "    return otf\n",
    "def split(func):\n",
    "    def otf():\n",
    "        result = func()\n",
    "        return result.split()\n",
    "    return otf\n",
    "def newup():\n",
    "    return \"im ready\"\n",
    "@split\n",
    "@upper\n",
    "def newup():\n",
    "    return \"im ready\"\n",
    "\n",
    "print(newup())"
   ]
  }
 ],
 "metadata": {
  "kernelspec": {
   "display_name": "Python 3 (ipykernel)",
   "language": "python",
   "name": "python3"
  },
  "language_info": {
   "codemirror_mode": {
    "name": "ipython",
    "version": 3
   },
   "file_extension": ".py",
   "mimetype": "text/x-python",
   "name": "python",
   "nbconvert_exporter": "python",
   "pygments_lexer": "ipython3",
   "version": "3.13.7"
  }
 },
 "nbformat": 4,
 "nbformat_minor": 5
}
