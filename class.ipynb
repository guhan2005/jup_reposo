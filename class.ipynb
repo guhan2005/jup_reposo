{
 "cells": [
  {
   "cell_type": "code",
   "execution_count": 6,
   "id": "af7db698-4b64-418a-96cf-9337058e42ce",
   "metadata": {},
   "outputs": [
    {
     "name": "stdin",
     "output_type": "stream",
     "text": [
      "Enter name:  r\n",
      "Enter grade:  r\n"
     ]
    },
    {
     "name": "stdout",
     "output_type": "stream",
     "text": [
      "Student name is r and grade r\n"
     ]
    }
   ],
   "source": [
    "#student mark\n",
    "class Student:\n",
    "    def __init__(self,name,grade):\n",
    "        self.name = name\n",
    "        self.grade = grade\n",
    "\n",
    "    def std_detail(self):\n",
    "        \n",
    "       print( f\"Student name is {self.name} and grade {self.grade}\")\n",
    "\n",
    "name = input(\"Enter name: \")\n",
    "grade = input(\"Enter grade: \")\n",
    "\n",
    "s1 = Student(name, grade)\n",
    "s1.std_detail()\n",
    "\n",
    "   \n"
   ]
  },
  {
   "cell_type": "code",
   "execution_count": null,
   "id": "6cca1658-da07-4e2d-aa9f-6708f5449a31",
   "metadata": {},
   "outputs": [],
   "source": []
  }
 ],
 "metadata": {
  "kernelspec": {
   "display_name": "Python 3 (ipykernel)",
   "language": "python",
   "name": "python3"
  },
  "language_info": {
   "codemirror_mode": {
    "name": "ipython",
    "version": 3
   },
   "file_extension": ".py",
   "mimetype": "text/x-python",
   "name": "python",
   "nbconvert_exporter": "python",
   "pygments_lexer": "ipython3",
   "version": "3.13.7"
  }
 },
 "nbformat": 4,
 "nbformat_minor": 5
}
