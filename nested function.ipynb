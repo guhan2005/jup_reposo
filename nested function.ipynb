{
 "cells": [
  {
   "cell_type": "code",
   "execution_count": 4,
   "id": "4ffcf25c-903e-4ef6-a984-e640a33a36e5",
   "metadata": {},
   "outputs": [
    {
     "name": "stdout",
     "output_type": "stream",
     "text": [
      "sqare of num 34\n"
     ]
    }
   ],
   "source": [
    "#nested function\n",
    "def new(a,b):\n",
    "    def art(x):\n",
    "         return x*x\n",
    "    return art(a)+art(b)\n",
    "result=new(3,5)\n",
    "print(\"sqare of num\",result)"
   ]
  },
  {
   "cell_type": "code",
   "execution_count": null,
   "id": "1ce2d484-031f-44f0-9964-47b63660e5a4",
   "metadata": {},
   "outputs": [],
   "source": []
  }
 ],
 "metadata": {
  "kernelspec": {
   "display_name": "Python 3 (ipykernel)",
   "language": "python",
   "name": "python3"
  },
  "language_info": {
   "codemirror_mode": {
    "name": "ipython",
    "version": 3
   },
   "file_extension": ".py",
   "mimetype": "text/x-python",
   "name": "python",
   "nbconvert_exporter": "python",
   "pygments_lexer": "ipython3",
   "version": "3.13.7"
  }
 },
 "nbformat": 4,
 "nbformat_minor": 5
}
