{
 "cells": [
  {
   "cell_type": "code",
   "execution_count": 20,
   "id": "183e6967-0820-4dce-80ce-87bbe3d2ca68",
   "metadata": {},
   "outputs": [
    {
     "name": "stdout",
     "output_type": "stream",
     "text": [
      "[25, 9, 2025]\n",
      "(25, 9, 2025)\n",
      "{'day': 25, 'month': 9, 'year': 2025}\n",
      "{25, 2025, 9}\n"
     ]
    }
   ],
   "source": [
    "#date time\n",
    "import datetime\n",
    "\n",
    "today=datetime.date.today()\n",
    "date_split=[today.day,today.month,today.year]\n",
    "print(date_split)\n",
    "date_tup=(tuple(date_split))\n",
    "print(date_tup)\n",
    "date_dic={\"day\":today.day,\"month\":today.month,\"year\":today.year}\n",
    "print(date_dic)\n",
    "unique_value=set(date_split)\n",
    "print(unique_value)\n",
    "\n"
   ]
  },
  {
   "cell_type": "code",
   "execution_count": null,
   "id": "76822856-9fa3-4cf4-a2ea-578c042f77b7",
   "metadata": {},
   "outputs": [],
   "source": []
  }
 ],
 "metadata": {
  "kernelspec": {
   "display_name": "Python 3 (ipykernel)",
   "language": "python",
   "name": "python3"
  },
  "language_info": {
   "codemirror_mode": {
    "name": "ipython",
    "version": 3
   },
   "file_extension": ".py",
   "mimetype": "text/x-python",
   "name": "python",
   "nbconvert_exporter": "python",
   "pygments_lexer": "ipython3",
   "version": "3.13.7"
  }
 },
 "nbformat": 4,
 "nbformat_minor": 5
}
