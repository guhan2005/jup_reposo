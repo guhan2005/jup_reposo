{
 "cells": [
  {
   "cell_type": "code",
   "execution_count": 3,
   "id": "606c55b6-08c2-425c-b7f7-a08e8acb0738",
   "metadata": {},
   "outputs": [
    {
     "name": "stdout",
     "output_type": "stream",
     "text": [
      "Original List : [3, 4, 2, 4, 8]\n",
      "Running Max   : [3, 4, 4, 4, 8]\n"
     ]
    }
   ],
   "source": [
    "import itertools\n",
    "\n",
    "n = [3,4,2,4,8]\n",
    "\n",
    "run_max = list(itertools.accumulate(n, lambda x, y: x if x > y else y))\n",
    "\n",
    "print(\"Original List :\", n)\n",
    "print(\"Running Max   :\", run_max)\n",
    "\n"
   ]
  },
  {
   "cell_type": "code",
   "execution_count": null,
   "id": "63762a84-00dd-4ec4-822a-2b970d73fe50",
   "metadata": {},
   "outputs": [],
   "source": []
  },
  {
   "cell_type": "code",
   "execution_count": null,
   "id": "3dbe10a5-b3d4-443c-a946-e8c963c27e2c",
   "metadata": {},
   "outputs": [],
   "source": []
  }
 ],
 "metadata": {
  "kernelspec": {
   "display_name": "Python 3 (ipykernel)",
   "language": "python",
   "name": "python3"
  },
  "language_info": {
   "codemirror_mode": {
    "name": "ipython",
    "version": 3
   },
   "file_extension": ".py",
   "mimetype": "text/x-python",
   "name": "python",
   "nbconvert_exporter": "python",
   "pygments_lexer": "ipython3",
   "version": "3.13.8"
  }
 },
 "nbformat": 4,
 "nbformat_minor": 5
}
